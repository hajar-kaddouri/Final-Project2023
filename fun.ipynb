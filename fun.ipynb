{
 "cells": [
  {
   "cell_type": "code",
   "execution_count": 5,
   "metadata": {},
   "outputs": [],
   "source": [
    "import pandas as pd\n",
    "import numpy as np \n",
    "from sklearn.ensemble import IsolationForest\n",
    "from sklearn.cluster import KMeans\n",
    "from sklearn.preprocessing import StandardScaler\n",
    "import matplotlib.pyplot as plt\n",
    "import seaborn as sns \n",
    "#import tensorflow as tf\n",
    "from sklearn.model_selection import train_test_split\n",
    "from sklearn.metrics import confusion_matrix, classification_report\n",
    "#Visualize Geospatial Data\n",
    "#import folium\n",
    "\n"
   ]
  },
  {
   "cell_type": "code",
   "execution_count": 8,
   "metadata": {},
   "outputs": [],
   "source": [
    "#reading the data\n",
    "credit_card_info = pd.read_csv('cc_info.csv')\n",
    "transaction_info = pd.read_csv('transactions.csv')"
   ]
  },
  {
   "cell_type": "code",
   "execution_count": 10,
   "metadata": {},
   "outputs": [
    {
     "data": {
      "text/html": [
       "<div>\n",
       "<style scoped>\n",
       "    .dataframe tbody tr th:only-of-type {\n",
       "        vertical-align: middle;\n",
       "    }\n",
       "\n",
       "    .dataframe tbody tr th {\n",
       "        vertical-align: top;\n",
       "    }\n",
       "\n",
       "    .dataframe thead th {\n",
       "        text-align: right;\n",
       "    }\n",
       "</style>\n",
       "<table border=\"1\" class=\"dataframe\">\n",
       "  <thead>\n",
       "    <tr style=\"text-align: right;\">\n",
       "      <th></th>\n",
       "      <th>credit_card</th>\n",
       "      <th>city</th>\n",
       "      <th>state</th>\n",
       "      <th>zipcode</th>\n",
       "      <th>credit_card_limit</th>\n",
       "    </tr>\n",
       "  </thead>\n",
       "  <tbody>\n",
       "    <tr>\n",
       "      <th>0</th>\n",
       "      <td>1280981422329509</td>\n",
       "      <td>Dallas</td>\n",
       "      <td>PA</td>\n",
       "      <td>18612</td>\n",
       "      <td>6000</td>\n",
       "    </tr>\n",
       "    <tr>\n",
       "      <th>1</th>\n",
       "      <td>9737219864179988</td>\n",
       "      <td>Houston</td>\n",
       "      <td>PA</td>\n",
       "      <td>15342</td>\n",
       "      <td>16000</td>\n",
       "    </tr>\n",
       "    <tr>\n",
       "      <th>2</th>\n",
       "      <td>4749889059323202</td>\n",
       "      <td>Auburn</td>\n",
       "      <td>MA</td>\n",
       "      <td>1501</td>\n",
       "      <td>14000</td>\n",
       "    </tr>\n",
       "    <tr>\n",
       "      <th>3</th>\n",
       "      <td>9591503562024072</td>\n",
       "      <td>Orlando</td>\n",
       "      <td>WV</td>\n",
       "      <td>26412</td>\n",
       "      <td>18000</td>\n",
       "    </tr>\n",
       "    <tr>\n",
       "      <th>4</th>\n",
       "      <td>2095640259001271</td>\n",
       "      <td>New York</td>\n",
       "      <td>NY</td>\n",
       "      <td>10001</td>\n",
       "      <td>20000</td>\n",
       "    </tr>\n",
       "    <tr>\n",
       "      <th>5</th>\n",
       "      <td>1997929794676601</td>\n",
       "      <td>Atlanta</td>\n",
       "      <td>NY</td>\n",
       "      <td>14808</td>\n",
       "      <td>21000</td>\n",
       "    </tr>\n",
       "    <tr>\n",
       "      <th>6</th>\n",
       "      <td>5449610971108305</td>\n",
       "      <td>Pittsburgh</td>\n",
       "      <td>PA</td>\n",
       "      <td>15201</td>\n",
       "      <td>6000</td>\n",
       "    </tr>\n",
       "    <tr>\n",
       "      <th>7</th>\n",
       "      <td>7482288151831611</td>\n",
       "      <td>Birmingham</td>\n",
       "      <td>NJ</td>\n",
       "      <td>8011</td>\n",
       "      <td>4000</td>\n",
       "    </tr>\n",
       "    <tr>\n",
       "      <th>8</th>\n",
       "      <td>8137811493121777</td>\n",
       "      <td>Washington</td>\n",
       "      <td>NH</td>\n",
       "      <td>3280</td>\n",
       "      <td>15000</td>\n",
       "    </tr>\n",
       "    <tr>\n",
       "      <th>9</th>\n",
       "      <td>7804216189681274</td>\n",
       "      <td>Los Angeles</td>\n",
       "      <td>CA</td>\n",
       "      <td>90001</td>\n",
       "      <td>20000</td>\n",
       "    </tr>\n",
       "  </tbody>\n",
       "</table>\n",
       "</div>"
      ],
      "text/plain": [
       "        credit_card         city state  zipcode  credit_card_limit\n",
       "0  1280981422329509       Dallas    PA    18612               6000\n",
       "1  9737219864179988      Houston    PA    15342              16000\n",
       "2  4749889059323202       Auburn    MA     1501              14000\n",
       "3  9591503562024072      Orlando    WV    26412              18000\n",
       "4  2095640259001271     New York    NY    10001              20000\n",
       "5  1997929794676601      Atlanta    NY    14808              21000\n",
       "6  5449610971108305   Pittsburgh    PA    15201               6000\n",
       "7  7482288151831611   Birmingham    NJ     8011               4000\n",
       "8  8137811493121777   Washington    NH     3280              15000\n",
       "9  7804216189681274  Los Angeles    CA    90001              20000"
      ]
     },
     "execution_count": 10,
     "metadata": {},
     "output_type": "execute_result"
    }
   ],
   "source": [
    "credit_card_info.head(10)"
   ]
  },
  {
   "cell_type": "code",
   "execution_count": 11,
   "metadata": {},
   "outputs": [
    {
     "data": {
      "text/html": [
       "<div>\n",
       "<style scoped>\n",
       "    .dataframe tbody tr th:only-of-type {\n",
       "        vertical-align: middle;\n",
       "    }\n",
       "\n",
       "    .dataframe tbody tr th {\n",
       "        vertical-align: top;\n",
       "    }\n",
       "\n",
       "    .dataframe thead th {\n",
       "        text-align: right;\n",
       "    }\n",
       "</style>\n",
       "<table border=\"1\" class=\"dataframe\">\n",
       "  <thead>\n",
       "    <tr style=\"text-align: right;\">\n",
       "      <th></th>\n",
       "      <th>credit_card</th>\n",
       "      <th>date</th>\n",
       "      <th>transaction_dollar_amount</th>\n",
       "      <th>Long</th>\n",
       "      <th>Lat</th>\n",
       "    </tr>\n",
       "  </thead>\n",
       "  <tbody>\n",
       "    <tr>\n",
       "      <th>0</th>\n",
       "      <td>1003715054175576</td>\n",
       "      <td>2015-09-11 00:32:40</td>\n",
       "      <td>43.78</td>\n",
       "      <td>-80.174132</td>\n",
       "      <td>40.267370</td>\n",
       "    </tr>\n",
       "    <tr>\n",
       "      <th>1</th>\n",
       "      <td>1003715054175576</td>\n",
       "      <td>2015-10-24 22:23:08</td>\n",
       "      <td>103.15</td>\n",
       "      <td>-80.194240</td>\n",
       "      <td>40.180114</td>\n",
       "    </tr>\n",
       "    <tr>\n",
       "      <th>2</th>\n",
       "      <td>1003715054175576</td>\n",
       "      <td>2015-10-26 18:19:36</td>\n",
       "      <td>48.55</td>\n",
       "      <td>-80.211033</td>\n",
       "      <td>40.313004</td>\n",
       "    </tr>\n",
       "    <tr>\n",
       "      <th>3</th>\n",
       "      <td>1003715054175576</td>\n",
       "      <td>2015-10-22 19:41:10</td>\n",
       "      <td>136.18</td>\n",
       "      <td>-80.174138</td>\n",
       "      <td>40.290895</td>\n",
       "    </tr>\n",
       "    <tr>\n",
       "      <th>4</th>\n",
       "      <td>1003715054175576</td>\n",
       "      <td>2015-10-26 20:08:22</td>\n",
       "      <td>71.82</td>\n",
       "      <td>-80.238720</td>\n",
       "      <td>40.166719</td>\n",
       "    </tr>\n",
       "    <tr>\n",
       "      <th>5</th>\n",
       "      <td>1003715054175576</td>\n",
       "      <td>2015-10-17 21:28:57</td>\n",
       "      <td>121.60</td>\n",
       "      <td>-80.243565</td>\n",
       "      <td>40.260887</td>\n",
       "    </tr>\n",
       "    <tr>\n",
       "      <th>6</th>\n",
       "      <td>1003715054175576</td>\n",
       "      <td>2015-08-29 18:34:04</td>\n",
       "      <td>122.65</td>\n",
       "      <td>-80.238186</td>\n",
       "      <td>40.245928</td>\n",
       "    </tr>\n",
       "    <tr>\n",
       "      <th>7</th>\n",
       "      <td>1003715054175576</td>\n",
       "      <td>2015-08-14 21:34:39</td>\n",
       "      <td>98.00</td>\n",
       "      <td>-80.244063</td>\n",
       "      <td>40.249143</td>\n",
       "    </tr>\n",
       "    <tr>\n",
       "      <th>8</th>\n",
       "      <td>1003715054175576</td>\n",
       "      <td>2015-09-17 19:20:37</td>\n",
       "      <td>95.20</td>\n",
       "      <td>-2.833179</td>\n",
       "      <td>34.745015</td>\n",
       "    </tr>\n",
       "    <tr>\n",
       "      <th>9</th>\n",
       "      <td>1003715054175576</td>\n",
       "      <td>2015-09-11 18:59:04</td>\n",
       "      <td>57.95</td>\n",
       "      <td>-80.287528</td>\n",
       "      <td>40.267874</td>\n",
       "    </tr>\n",
       "  </tbody>\n",
       "</table>\n",
       "</div>"
      ],
      "text/plain": [
       "        credit_card                 date  transaction_dollar_amount  \\\n",
       "0  1003715054175576  2015-09-11 00:32:40                      43.78   \n",
       "1  1003715054175576  2015-10-24 22:23:08                     103.15   \n",
       "2  1003715054175576  2015-10-26 18:19:36                      48.55   \n",
       "3  1003715054175576  2015-10-22 19:41:10                     136.18   \n",
       "4  1003715054175576  2015-10-26 20:08:22                      71.82   \n",
       "5  1003715054175576  2015-10-17 21:28:57                     121.60   \n",
       "6  1003715054175576  2015-08-29 18:34:04                     122.65   \n",
       "7  1003715054175576  2015-08-14 21:34:39                      98.00   \n",
       "8  1003715054175576  2015-09-17 19:20:37                      95.20   \n",
       "9  1003715054175576  2015-09-11 18:59:04                      57.95   \n",
       "\n",
       "        Long        Lat  \n",
       "0 -80.174132  40.267370  \n",
       "1 -80.194240  40.180114  \n",
       "2 -80.211033  40.313004  \n",
       "3 -80.174138  40.290895  \n",
       "4 -80.238720  40.166719  \n",
       "5 -80.243565  40.260887  \n",
       "6 -80.238186  40.245928  \n",
       "7 -80.244063  40.249143  \n",
       "8  -2.833179  34.745015  \n",
       "9 -80.287528  40.267874  "
      ]
     },
     "execution_count": 11,
     "metadata": {},
     "output_type": "execute_result"
    }
   ],
   "source": [
    "transaction_info.head(10)"
   ]
  },
  {
   "cell_type": "code",
   "execution_count": 17,
   "metadata": {},
   "outputs": [
    {
     "data": {
      "text/plain": [
       "credit_card          0\n",
       "city                 0\n",
       "state                0\n",
       "zipcode              0\n",
       "credit_card_limit    0\n",
       "dtype: int64"
      ]
     },
     "execution_count": 17,
     "metadata": {},
     "output_type": "execute_result"
    }
   ],
   "source": [
    "#check for missing values\n",
    "credit_card_info.isnull().sum()"
   ]
  },
  {
   "cell_type": "code",
   "execution_count": 16,
   "metadata": {},
   "outputs": [
    {
     "data": {
      "text/plain": [
       "credit_card                  0\n",
       "date                         0\n",
       "transaction_dollar_amount    0\n",
       "Long                         0\n",
       "Lat                          0\n",
       "dtype: int64"
      ]
     },
     "execution_count": 16,
     "metadata": {},
     "output_type": "execute_result"
    }
   ],
   "source": [
    "transaction_info.isnull().sum()"
   ]
  },
  {
   "cell_type": "code",
   "execution_count": 14,
   "metadata": {},
   "outputs": [
    {
     "name": "stdout",
     "output_type": "stream",
     "text": [
      "<class 'pandas.core.frame.DataFrame'>\n",
      "RangeIndex: 984 entries, 0 to 983\n",
      "Data columns (total 5 columns):\n",
      " #   Column             Non-Null Count  Dtype \n",
      "---  ------             --------------  ----- \n",
      " 0   credit_card        984 non-null    int64 \n",
      " 1   city               984 non-null    object\n",
      " 2   state              984 non-null    object\n",
      " 3   zipcode            984 non-null    int64 \n",
      " 4   credit_card_limit  984 non-null    int64 \n",
      "dtypes: int64(3), object(2)\n",
      "memory usage: 38.6+ KB\n",
      "<class 'pandas.core.frame.DataFrame'>\n",
      "RangeIndex: 294588 entries, 0 to 294587\n",
      "Data columns (total 5 columns):\n",
      " #   Column                     Non-Null Count   Dtype  \n",
      "---  ------                     --------------   -----  \n",
      " 0   credit_card                294588 non-null  int64  \n",
      " 1   date                       294588 non-null  object \n",
      " 2   transaction_dollar_amount  294588 non-null  float64\n",
      " 3   Long                       294588 non-null  float64\n",
      " 4   Lat                        294588 non-null  float64\n",
      "dtypes: float64(3), int64(1), object(1)\n",
      "memory usage: 11.2+ MB\n"
     ]
    }
   ],
   "source": [
    "credit_card_info.info()\n",
    "transaction_info.info()"
   ]
  },
  {
   "cell_type": "markdown",
   "metadata": {},
   "source": [
    "### New merged Table"
   ]
  },
  {
   "cell_type": "code",
   "execution_count": 20,
   "metadata": {},
   "outputs": [],
   "source": [
    "#merge the two data frame \n",
    "df_credit_card = transaction_info.merge(credit_card_info, on = 'credit_card')"
   ]
  },
  {
   "cell_type": "code",
   "execution_count": 25,
   "metadata": {},
   "outputs": [
    {
     "data": {
      "text/html": [
       "<div>\n",
       "<style scoped>\n",
       "    .dataframe tbody tr th:only-of-type {\n",
       "        vertical-align: middle;\n",
       "    }\n",
       "\n",
       "    .dataframe tbody tr th {\n",
       "        vertical-align: top;\n",
       "    }\n",
       "\n",
       "    .dataframe thead th {\n",
       "        text-align: right;\n",
       "    }\n",
       "</style>\n",
       "<table border=\"1\" class=\"dataframe\">\n",
       "  <thead>\n",
       "    <tr style=\"text-align: right;\">\n",
       "      <th></th>\n",
       "      <th>credit_card</th>\n",
       "      <th>date</th>\n",
       "      <th>transaction_dollar_amount</th>\n",
       "      <th>Long</th>\n",
       "      <th>Lat</th>\n",
       "      <th>city</th>\n",
       "      <th>state</th>\n",
       "      <th>zipcode</th>\n",
       "      <th>credit_card_limit</th>\n",
       "    </tr>\n",
       "  </thead>\n",
       "  <tbody>\n",
       "    <tr>\n",
       "      <th>0</th>\n",
       "      <td>1003715054175576</td>\n",
       "      <td>2015-09-11 00:32:40</td>\n",
       "      <td>43.78</td>\n",
       "      <td>-80.174132</td>\n",
       "      <td>40.267370</td>\n",
       "      <td>Houston</td>\n",
       "      <td>PA</td>\n",
       "      <td>15342</td>\n",
       "      <td>20000</td>\n",
       "    </tr>\n",
       "    <tr>\n",
       "      <th>1</th>\n",
       "      <td>1003715054175576</td>\n",
       "      <td>2015-10-24 22:23:08</td>\n",
       "      <td>103.15</td>\n",
       "      <td>-80.194240</td>\n",
       "      <td>40.180114</td>\n",
       "      <td>Houston</td>\n",
       "      <td>PA</td>\n",
       "      <td>15342</td>\n",
       "      <td>20000</td>\n",
       "    </tr>\n",
       "    <tr>\n",
       "      <th>2</th>\n",
       "      <td>1003715054175576</td>\n",
       "      <td>2015-10-26 18:19:36</td>\n",
       "      <td>48.55</td>\n",
       "      <td>-80.211033</td>\n",
       "      <td>40.313004</td>\n",
       "      <td>Houston</td>\n",
       "      <td>PA</td>\n",
       "      <td>15342</td>\n",
       "      <td>20000</td>\n",
       "    </tr>\n",
       "    <tr>\n",
       "      <th>3</th>\n",
       "      <td>1003715054175576</td>\n",
       "      <td>2015-10-22 19:41:10</td>\n",
       "      <td>136.18</td>\n",
       "      <td>-80.174138</td>\n",
       "      <td>40.290895</td>\n",
       "      <td>Houston</td>\n",
       "      <td>PA</td>\n",
       "      <td>15342</td>\n",
       "      <td>20000</td>\n",
       "    </tr>\n",
       "    <tr>\n",
       "      <th>4</th>\n",
       "      <td>1003715054175576</td>\n",
       "      <td>2015-10-26 20:08:22</td>\n",
       "      <td>71.82</td>\n",
       "      <td>-80.238720</td>\n",
       "      <td>40.166719</td>\n",
       "      <td>Houston</td>\n",
       "      <td>PA</td>\n",
       "      <td>15342</td>\n",
       "      <td>20000</td>\n",
       "    </tr>\n",
       "  </tbody>\n",
       "</table>\n",
       "</div>"
      ],
      "text/plain": [
       "        credit_card                 date  transaction_dollar_amount  \\\n",
       "0  1003715054175576  2015-09-11 00:32:40                      43.78   \n",
       "1  1003715054175576  2015-10-24 22:23:08                     103.15   \n",
       "2  1003715054175576  2015-10-26 18:19:36                      48.55   \n",
       "3  1003715054175576  2015-10-22 19:41:10                     136.18   \n",
       "4  1003715054175576  2015-10-26 20:08:22                      71.82   \n",
       "\n",
       "        Long        Lat     city state  zipcode  credit_card_limit  \n",
       "0 -80.174132  40.267370  Houston    PA    15342              20000  \n",
       "1 -80.194240  40.180114  Houston    PA    15342              20000  \n",
       "2 -80.211033  40.313004  Houston    PA    15342              20000  \n",
       "3 -80.174138  40.290895  Houston    PA    15342              20000  \n",
       "4 -80.238720  40.166719  Houston    PA    15342              20000  "
      ]
     },
     "execution_count": 25,
     "metadata": {},
     "output_type": "execute_result"
    }
   ],
   "source": [
    "df_credit_card.head(5)"
   ]
  },
  {
   "cell_type": "code",
   "execution_count": 26,
   "metadata": {},
   "outputs": [
    {
     "data": {
      "text/html": [
       "<div>\n",
       "<style scoped>\n",
       "    .dataframe tbody tr th:only-of-type {\n",
       "        vertical-align: middle;\n",
       "    }\n",
       "\n",
       "    .dataframe tbody tr th {\n",
       "        vertical-align: top;\n",
       "    }\n",
       "\n",
       "    .dataframe thead th {\n",
       "        text-align: right;\n",
       "    }\n",
       "</style>\n",
       "<table border=\"1\" class=\"dataframe\">\n",
       "  <thead>\n",
       "    <tr style=\"text-align: right;\">\n",
       "      <th></th>\n",
       "      <th>credit_card</th>\n",
       "      <th>transaction_dollar_amount</th>\n",
       "      <th>Long</th>\n",
       "      <th>Lat</th>\n",
       "      <th>zipcode</th>\n",
       "      <th>credit_card_limit</th>\n",
       "    </tr>\n",
       "  </thead>\n",
       "  <tbody>\n",
       "    <tr>\n",
       "      <th>count</th>\n",
       "      <td>2.945880e+05</td>\n",
       "      <td>294588.000000</td>\n",
       "      <td>294588.000000</td>\n",
       "      <td>294588.000000</td>\n",
       "      <td>294588.000000</td>\n",
       "      <td>294588.000000</td>\n",
       "    </tr>\n",
       "    <tr>\n",
       "      <th>mean</th>\n",
       "      <td>5.424562e+15</td>\n",
       "      <td>86.008036</td>\n",
       "      <td>-76.235238</td>\n",
       "      <td>40.937669</td>\n",
       "      <td>18073.772516</td>\n",
       "      <td>15502.053716</td>\n",
       "    </tr>\n",
       "    <tr>\n",
       "      <th>std</th>\n",
       "      <td>2.555803e+15</td>\n",
       "      <td>124.655954</td>\n",
       "      <td>20.135015</td>\n",
       "      <td>5.391695</td>\n",
       "      <td>23945.510551</td>\n",
       "      <td>7956.291556</td>\n",
       "    </tr>\n",
       "    <tr>\n",
       "      <th>min</th>\n",
       "      <td>1.003715e+15</td>\n",
       "      <td>0.010000</td>\n",
       "      <td>-179.392887</td>\n",
       "      <td>-68.046553</td>\n",
       "      <td>690.000000</td>\n",
       "      <td>2000.000000</td>\n",
       "    </tr>\n",
       "    <tr>\n",
       "      <th>25%</th>\n",
       "      <td>3.344214e+15</td>\n",
       "      <td>29.970000</td>\n",
       "      <td>-80.209708</td>\n",
       "      <td>40.487726</td>\n",
       "      <td>3280.000000</td>\n",
       "      <td>10000.000000</td>\n",
       "    </tr>\n",
       "    <tr>\n",
       "      <th>50%</th>\n",
       "      <td>5.353426e+15</td>\n",
       "      <td>58.470000</td>\n",
       "      <td>-73.199737</td>\n",
       "      <td>42.403066</td>\n",
       "      <td>5820.000000</td>\n",
       "      <td>15000.000000</td>\n",
       "    </tr>\n",
       "    <tr>\n",
       "      <th>75%</th>\n",
       "      <td>7.646245e+15</td>\n",
       "      <td>100.400000</td>\n",
       "      <td>-72.091933</td>\n",
       "      <td>43.180015</td>\n",
       "      <td>18612.000000</td>\n",
       "      <td>20000.000000</td>\n",
       "    </tr>\n",
       "    <tr>\n",
       "      <th>max</th>\n",
       "      <td>9.999757e+15</td>\n",
       "      <td>999.970000</td>\n",
       "      <td>179.917513</td>\n",
       "      <td>78.914330</td>\n",
       "      <td>98401.000000</td>\n",
       "      <td>55000.000000</td>\n",
       "    </tr>\n",
       "  </tbody>\n",
       "</table>\n",
       "</div>"
      ],
      "text/plain": [
       "        credit_card  transaction_dollar_amount           Long            Lat  \\\n",
       "count  2.945880e+05              294588.000000  294588.000000  294588.000000   \n",
       "mean   5.424562e+15                  86.008036     -76.235238      40.937669   \n",
       "std    2.555803e+15                 124.655954      20.135015       5.391695   \n",
       "min    1.003715e+15                   0.010000    -179.392887     -68.046553   \n",
       "25%    3.344214e+15                  29.970000     -80.209708      40.487726   \n",
       "50%    5.353426e+15                  58.470000     -73.199737      42.403066   \n",
       "75%    7.646245e+15                 100.400000     -72.091933      43.180015   \n",
       "max    9.999757e+15                 999.970000     179.917513      78.914330   \n",
       "\n",
       "             zipcode  credit_card_limit  \n",
       "count  294588.000000      294588.000000  \n",
       "mean    18073.772516       15502.053716  \n",
       "std     23945.510551        7956.291556  \n",
       "min       690.000000        2000.000000  \n",
       "25%      3280.000000       10000.000000  \n",
       "50%      5820.000000       15000.000000  \n",
       "75%     18612.000000       20000.000000  \n",
       "max     98401.000000       55000.000000  "
      ]
     },
     "execution_count": 26,
     "metadata": {},
     "output_type": "execute_result"
    }
   ],
   "source": [
    "df_credit_card.describe()"
   ]
  },
  {
   "cell_type": "code",
   "execution_count": 28,
   "metadata": {},
   "outputs": [
    {
     "data": {
      "text/plain": [
       "(294588, 9)"
      ]
     },
     "execution_count": 28,
     "metadata": {},
     "output_type": "execute_result"
    }
   ],
   "source": [
    "df_credit_card.shape"
   ]
  },
  {
   "cell_type": "code",
   "execution_count": 29,
   "metadata": {},
   "outputs": [
    {
     "name": "stdout",
     "output_type": "stream",
     "text": [
      "<class 'pandas.core.frame.DataFrame'>\n",
      "Int64Index: 294588 entries, 0 to 294587\n",
      "Data columns (total 9 columns):\n",
      " #   Column                     Non-Null Count   Dtype  \n",
      "---  ------                     --------------   -----  \n",
      " 0   credit_card                294588 non-null  int64  \n",
      " 1   date                       294588 non-null  object \n",
      " 2   transaction_dollar_amount  294588 non-null  float64\n",
      " 3   Long                       294588 non-null  float64\n",
      " 4   Lat                        294588 non-null  float64\n",
      " 5   city                       294588 non-null  object \n",
      " 6   state                      294588 non-null  object \n",
      " 7   zipcode                    294588 non-null  int64  \n",
      " 8   credit_card_limit          294588 non-null  int64  \n",
      "dtypes: float64(3), int64(3), object(3)\n",
      "memory usage: 22.5+ MB\n"
     ]
    }
   ],
   "source": [
    "df_credit_card.info()"
   ]
  },
  {
   "cell_type": "code",
   "execution_count": 30,
   "metadata": {},
   "outputs": [
    {
     "data": {
      "text/plain": [
       "credit_card                  0\n",
       "date                         0\n",
       "transaction_dollar_amount    0\n",
       "Long                         0\n",
       "Lat                          0\n",
       "city                         0\n",
       "state                        0\n",
       "zipcode                      0\n",
       "credit_card_limit            0\n",
       "dtype: int64"
      ]
     },
     "execution_count": 30,
     "metadata": {},
     "output_type": "execute_result"
    }
   ],
   "source": [
    "df_credit_card.isnull().sum()"
   ]
  },
  {
   "cell_type": "markdown",
   "metadata": {},
   "source": [
    "### Data Visualisation"
   ]
  },
  {
   "cell_type": "code",
   "execution_count": 33,
   "metadata": {},
   "outputs": [
    {
     "data": {
      "text/plain": [
       "<AxesSubplot:>"
      ]
     },
     "execution_count": 33,
     "metadata": {},
     "output_type": "execute_result"
    },
    {
     "data": {
      "image/png": "[encoded data removed]",
      "text/plain": [
       "<Figure size 1400x700 with 1 Axes>"
      ]
     },
     "metadata": {},
     "output_type": "display_data"
    }
   ],
   "source": [
    "#number of transaction records \n",
    "df_credit_card['state'].value_counts().plot(kind='bar',  figsize = (14,7))\n"
   ]
  },
  {
   "cell_type": "code",
   "execution_count": null,
   "metadata": {},
   "outputs": [],
   "source": []
  }
 ],
 "metadata": {
  "kernelspec": {
   "display_name": "test_env",
   "language": "python",
   "name": "test_env"
  },
  "language_info": {
   "codemirror_mode": {
    "name": "ipython",
    "version": 3
   },
   "file_extension": ".py",
   "mimetype": "text/x-python",
   "name": "python",
   "nbconvert_exporter": "python",
   "pygments_lexer": "ipython3",
   "version": "3.9.12"
  },
  "orig_nbformat": 4
 },
 "nbformat": 4,
 "nbformat_minor": 2
}
